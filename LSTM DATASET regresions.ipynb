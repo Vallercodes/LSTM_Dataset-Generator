{
 "cells": [
  {
   "cell_type": "code",
   "execution_count": 1,
   "metadata": {},
   "outputs": [],
   "source": [
    "import random\n",
    "import matplotlib.pyplot as plt\n",
    "import pandas as pd\n",
    "import numpy as np"
   ]
  },
  {
   "cell_type": "code",
   "execution_count": 2,
   "metadata": {},
   "outputs": [],
   "source": [
    "long = []                  # sett blanc list for tracking\n",
    "def generated_LSTM(n):      # set function name with n. n to be number of iterations\n",
    "    k = 0.00                  # initialise the long list with Zero float\n",
    "    for i in range(n):                   #takes number of iterations for dataset\n",
    "        c = random.randint(0,3)         # probability of postive to negative is set to 2/3 neg\n",
    "        if c == 0:\n",
    "            k = k + round(random.uniform(01.00, 25.00), 2)        # for 1/3 positive random travel set up to 25 to 2 dp\n",
    "        else:\n",
    "            k = k - round(random.uniform(1.00, 3.33), 2)          # for 2/3 negative random travel set to upto 33.33\n",
    "            long.append(k)          # append new total of k to continue long list\n",
    "        #print(k)\n",
    "           \n",
    "generated_LSTM(9000)           # set desired number of iterarations"
   ]
  },
  {
   "cell_type": "code",
   "execution_count": 3,
   "metadata": {
    "scrolled": true
   },
   "outputs": [
    {
     "name": "stdout",
     "output_type": "stream",
     "text": [
      "    Roll\n",
      "0   7.17\n",
      "1   6.16\n",
      "2   3.94\n",
      "3   2.65\n",
      "4  14.54\n"
     ]
    },
    {
     "data": {
      "image/png": "[encoded data removed]",
      "text/plain": [
       "<Figure size 432x288 with 1 Axes>"
      ]
     },
     "metadata": {
      "needs_background": "light"
     },
     "output_type": "display_data"
    }
   ],
   "source": [
    "df = pd.DataFrame(long, columns=['Roll'])          # save completed list to Pandas DataFrame\n",
    "#df = pd.DataFrame(long)\n",
    "print(df.head())\n",
    "df.to_csv('LSTM_GenData.csv', index=False)              # save Dataset to csv removing index as will be index when read if nessacery\n",
    "plt.plot(long)\n",
    "\n",
    "plt.show()"
   ]
  },
  {
   "cell_type": "code",
   "execution_count": null,
   "metadata": {},
   "outputs": [],
   "source": []
  }
 ],
 "metadata": {
  "kernelspec": {
   "display_name": "Python 3",
   "language": "python",
   "name": "python3"
  },
  "language_info": {
   "codemirror_mode": {
    "name": "ipython",
    "version": 3
   },
   "file_extension": ".py",
   "mimetype": "text/x-python",
   "name": "python",
   "nbconvert_exporter": "python",
   "pygments_lexer": "ipython3",
   "version": "3.7.6"
  }
 },
 "nbformat": 4,
 "nbformat_minor": 4
}
